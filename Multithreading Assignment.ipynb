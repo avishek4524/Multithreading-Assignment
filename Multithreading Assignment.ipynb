{
 "cells": [
  {
   "cell_type": "code",
   "execution_count": null,
   "id": "52ff594b-8051-45ac-b2f3-ee4e3ed5c115",
   "metadata": {},
   "outputs": [],
   "source": [
    "). what is multithreading in python? why is it used? Name the module used to handle threads in python"
   ]
  },
  {
   "cell_type": "code",
   "execution_count": null,
   "id": "8889057f-5dbd-4b4a-ae34-d77beb64d77b",
   "metadata": {},
   "outputs": [],
   "source": [
    "\n",
    "Multithreading refers to concurrently executing multiple threads by rapidly switching the control of the CPU between threads \n",
    "The main reason for incorporating threads into an application is to improve its performance. Performance can be expressed in multiple ways: A web server will utilize multiple threads to simultaneous process requests for data at the same time.\n",
    "threading module is used for creating, controlling and managing threads in python."
   ]
  },
  {
   "cell_type": "code",
   "execution_count": null,
   "id": "e4927b05-628f-44de-829b-81cbe1b1b1a8",
   "metadata": {},
   "outputs": [],
   "source": [
    ". hy threading module used? rite the use of the following functions\n",
    "( activeCount\n",
    " currentThread\n",
    " enumerate)"
   ]
  },
  {
   "cell_type": "code",
   "execution_count": null,
   "id": "33bf254e-333b-4c54-bad0-7af637fe85b3",
   "metadata": {},
   "outputs": [],
   "source": [
    "activeCount() − Returns the number of thread objects that are active.\n",
    "currentThread() − Returns the number of thread objects in the caller's thread control.\n",
    "enumerate() returns a list of all Thread objects currently alive. "
   ]
  },
  {
   "cell_type": "code",
   "execution_count": null,
   "id": "4f583d03-479e-466f-aea3-72529bdc3b8e",
   "metadata": {},
   "outputs": [],
   "source": [
    "3. Explain the following functions\n",
    "( run\n",
    " start\n",
    " join\n",
    "' isAlive)"
   ]
  },
  {
   "cell_type": "code",
   "execution_count": null,
   "id": "9ee80e50-8216-4b27-bf05-d326e0574799",
   "metadata": {},
   "outputs": [],
   "source": [
    "The . run() method executes any target function belonging to a given thread object that is now active. It normally executes in the background after the . start() method is invoked.\n",
    "start() − The start() method starts a thread by calling the run method.\n",
    "join([time]) − The join() waits for threads to terminate\n",
    "isAlive() − The isAlive() method checks whether a thread is still executing."
   ]
  },
  {
   "cell_type": "code",
   "execution_count": null,
   "id": "35a57455-f235-4535-ac5c-30ad06a0c490",
   "metadata": {},
   "outputs": [],
   "source": [
    "State advantages and disadvantages of multithreading"
   ]
  },
  {
   "cell_type": "code",
   "execution_count": null,
   "id": "b222e2f0-c144-48b0-b136-ea8b892443fe",
   "metadata": {},
   "outputs": [],
   "source": [
    "Advantage:\n",
    "    We can execute multiple tasks of an application at a time\n",
    "Reduces the complexity of a big applications\n",
    "Helps to improve the performance of an application drastically\n",
    "Utilizes the max resources of multiprocessor systems\n",
    "Better user interface in case of GUI based applications\n",
    "Reduces the development time of an application\n",
    "All the threads are independent , any unexpected exception happens in any of the thread will not lead to an application exit.\n",
    "Disadvantage:\n",
    "    \n",
    "Thread synchronization is an extra over head to the developers\n",
    "Shares the common data across the threads might cause the data inconsistency or thread sync issues\n",
    "Threads blocking for resources is more common problem\n",
    "Difficult in managing the code in terms of debugging or writing the code"
   ]
  },
  {
   "cell_type": "code",
   "execution_count": null,
   "id": "d48b8d9c-5686-4620-928d-254da718263c",
   "metadata": {},
   "outputs": [],
   "source": [
    "Explain deadlocks and race conditions."
   ]
  },
  {
   "cell_type": "code",
   "execution_count": null,
   "id": "38442894-5763-45d4-8d4c-e812cf1f3278",
   "metadata": {},
   "outputs": [],
   "source": [
    "A race condition occurs when two threads use the same variable at a given time. Deadlock exists when two threads seek one lock simultaneously. This situation will stop both threads from processing or executing the functions"
   ]
  }
 ],
 "metadata": {
  "kernelspec": {
   "display_name": "Python 3 (ipykernel)",
   "language": "python",
   "name": "python3"
  },
  "language_info": {
   "codemirror_mode": {
    "name": "ipython",
    "version": 3
   },
   "file_extension": ".py",
   "mimetype": "text/x-python",
   "name": "python",
   "nbconvert_exporter": "python",
   "pygments_lexer": "ipython3",
   "version": "3.10.8"
  }
 },
 "nbformat": 4,
 "nbformat_minor": 5
}
